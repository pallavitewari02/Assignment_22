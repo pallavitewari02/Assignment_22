{
 "cells": [
  {
   "cell_type": "code",
   "execution_count": 1,
   "id": "04ae1e94",
   "metadata": {},
   "outputs": [],
   "source": [
    "Q1.What is the result of the code, and explain?\n",
    "    \n",
    "    "
   ]
  },
  {
   "cell_type": "code",
   "execution_count": null,
   "id": "b5a94ecc",
   "metadata": {},
   "outputs": [],
   "source": [
    "X='iNeuron'\n",
    "def func():\n",
    "    print(X)"
   ]
  },
  {
   "cell_type": "code",
   "execution_count": 5,
   "id": "1f142dfa",
   "metadata": {},
   "outputs": [
    {
     "name": "stdout",
     "output_type": "stream",
     "text": [
      "iNeuron\n"
     ]
    }
   ],
   "source": [
    "func()"
   ]
  },
  {
   "cell_type": "markdown",
   "id": "dece2b6a",
   "metadata": {},
   "source": [
    "\"Result is iNeuron as when the function func() is called,\n",
    "it returns what is inside. Inside the func()  function,\n",
    "print statement is having X which is globally defined as'iNeuron' so same is returned.\""
   ]
  },
  {
   "cell_type": "code",
   "execution_count": null,
   "id": "22885ddf",
   "metadata": {},
   "outputs": [],
   "source": [
    "Q2.What is the result of the code, and explain?"
   ]
  },
  {
   "cell_type": "code",
   "execution_count": 6,
   "id": "21f4f681",
   "metadata": {},
   "outputs": [],
   "source": [
    "X='iNeuron'\n",
    "def func():\n",
    "    X='NI!'"
   ]
  },
  {
   "cell_type": "code",
   "execution_count": 10,
   "id": "f6d04584",
   "metadata": {},
   "outputs": [
    {
     "name": "stdout",
     "output_type": "stream",
     "text": [
      "iNeuron\n"
     ]
    }
   ],
   "source": [
    "func()\n",
    "print(X)\n"
   ]
  },
  {
   "cell_type": "code",
   "execution_count": null,
   "id": "cf375365",
   "metadata": {},
   "outputs": [],
   "source": [
    "Here the result is iNeuron as X is globally declared as\n",
    "iNeuron,Although X is locally declared as'NI!'but nothing \n",
    "is printed inside the function. So, when the function call is\n",
    "made,nothing is printed. iNeuron is printed as global variable\n",
    "return."
   ]
  },
  {
   "cell_type": "code",
   "execution_count": null,
   "id": "e8d6e3d3",
   "metadata": {},
   "outputs": [],
   "source": [
    "3. What does this code print,and why?"
   ]
  },
  {
   "cell_type": "code",
   "execution_count": 11,
   "id": "d0a2aad5",
   "metadata": {},
   "outputs": [],
   "source": [
    "X='iNeuron'\n",
    "def func():\n",
    "    X='NI'\n",
    "    print(X)"
   ]
  },
  {
   "cell_type": "code",
   "execution_count": 12,
   "id": "156a84b0",
   "metadata": {},
   "outputs": [
    {
     "name": "stdout",
     "output_type": "stream",
     "text": [
      "NI\n",
      "iNeuron\n"
     ]
    }
   ],
   "source": [
    "func()\n",
    "print(X)"
   ]
  },
  {
   "cell_type": "code",
   "execution_count": null,
   "id": "abad5123",
   "metadata": {},
   "outputs": [],
   "source": [
    "When the function call is made NI is returned from the print statement which is \n",
    "taking local variable & iNeuron is a global variable which prnted as the function \n",
    "is also followed by print statement."
   ]
  },
  {
   "cell_type": "code",
   "execution_count": null,
   "id": "9f9485b1",
   "metadata": {},
   "outputs": [],
   "source": [
    "4. What does this code produce,and why?"
   ]
  },
  {
   "cell_type": "code",
   "execution_count": 13,
   "id": "daa2057c",
   "metadata": {},
   "outputs": [],
   "source": [
    "X='iNeuron'\n",
    "def func():\n",
    "    global X\n",
    "    X='NI'"
   ]
  },
  {
   "cell_type": "code",
   "execution_count": 14,
   "id": "5c4f0138",
   "metadata": {},
   "outputs": [],
   "source": [
    "func()"
   ]
  },
  {
   "cell_type": "code",
   "execution_count": 15,
   "id": "6e768589",
   "metadata": {},
   "outputs": [
    {
     "name": "stdout",
     "output_type": "stream",
     "text": [
      "NI\n"
     ]
    }
   ],
   "source": [
    "print(X)"
   ]
  },
  {
   "cell_type": "code",
   "execution_count": null,
   "id": "6b81e051",
   "metadata": {},
   "outputs": [],
   "source": [
    "NI is printed as local variable X is explicitly declared \n",
    "global by using global keyword & Assigned a new value to it. So,\n",
    "when print(X) returns new gobal variable which is NI."
   ]
  },
  {
   "cell_type": "code",
   "execution_count": null,
   "id": "ba74ec04",
   "metadata": {},
   "outputs": [],
   "source": [
    "5.What about this code,What is the output & why?"
   ]
  },
  {
   "cell_type": "code",
   "execution_count": 23,
   "id": "c57d1d4b",
   "metadata": {},
   "outputs": [],
   "source": [
    "X='iNeuron'\n",
    "def func():\n",
    "    X='NI'\n",
    "    def nested():\n",
    "        print(X)\n",
    "        nested()\n",
    "        "
   ]
  },
  {
   "cell_type": "code",
   "execution_count": 24,
   "id": "ffd0c0e8",
   "metadata": {},
   "outputs": [
    {
     "data": {
      "text/plain": [
       "'iNeuron'"
      ]
     },
     "execution_count": 24,
     "metadata": {},
     "output_type": "execute_result"
    }
   ],
   "source": [
    "func()\n",
    "X"
   ]
  },
  {
   "cell_type": "code",
   "execution_count": null,
   "id": "ae83096e",
   "metadata": {},
   "outputs": [],
   "source": [
    "As iNeuron is a global variable,it is printed when it \n",
    "is called. There is no print inside func() & also X is locally\n",
    "assined a new value."
   ]
  },
  {
   "cell_type": "code",
   "execution_count": null,
   "id": "32ee8a3f",
   "metadata": {},
   "outputs": [],
   "source": [
    "6.How about this code:what is its output in Python3, and explain?\n",
    "    "
   ]
  },
  {
   "cell_type": "code",
   "execution_count": 26,
   "id": "26102382",
   "metadata": {},
   "outputs": [],
   "source": [
    "def func():\n",
    "    X='NI'\n",
    "    def nested():\n",
    "        nonlocal X\n",
    "        X='Spam'\n",
    "        nested()\n",
    "        print(X)\n",
    "    "
   ]
  },
  {
   "cell_type": "code",
   "execution_count": 30,
   "id": "d7584fc5",
   "metadata": {},
   "outputs": [],
   "source": [
    "func()"
   ]
  },
  {
   "cell_type": "code",
   "execution_count": null,
   "id": "58184e07",
   "metadata": {},
   "outputs": [],
   "source": [
    "Nothing is prited inside func(), So,it gives no output."
   ]
  }
 ],
 "metadata": {
  "kernelspec": {
   "display_name": "Python 3 (ipykernel)",
   "language": "python",
   "name": "python3"
  },
  "language_info": {
   "codemirror_mode": {
    "name": "ipython",
    "version": 3
   },
   "file_extension": ".py",
   "mimetype": "text/x-python",
   "name": "python",
   "nbconvert_exporter": "python",
   "pygments_lexer": "ipython3",
   "version": "3.9.12"
  }
 },
 "nbformat": 4,
 "nbformat_minor": 5
}
